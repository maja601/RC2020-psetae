{
 "cells": [
  {
   "cell_type": "markdown",
   "metadata": {},
   "source": [
    "# Take a look at the labels"
   ]
  },
  {
   "cell_type": "code",
   "execution_count": null,
   "metadata": {},
   "outputs": [],
   "source": [
    "import numpy as np\n",
    "import json\n",
    "import pandas as pd\n",
    "import matplotlib.pyplot as plt\n",
    "import collections\n",
    "%matplotlib inline"
   ]
  },
  {
   "cell_type": "code",
   "execution_count": null,
   "metadata": {},
   "outputs": [],
   "source": [
    "classes_F = [1, 3, 4, 5, 6, 8, 9, 12, 13, 14, 16, 18, 19, 23, 28, 31, 33, 34, 36, 39]\n",
    "classes_S = [33200000, 33101060, 33101010, 33101040, 33301010,\n",
    "             33304000, 33111023, 33109000, 33103000, 33107000,\n",
    "             33101070, 33106042, 33101050, 33101030, 33111022,\n",
    "             33101100, 33301040, 33106020, 33106040, 33101080]"
   ]
  },
  {
   "cell_type": "code",
   "execution_count": null,
   "metadata": {},
   "outputs": [],
   "source": [
    "labels_text_fr = ['Meadow', 'Winter Durum Wheat', 'Spring Cereal', 'Summer Cereal', 'Winter Cereal',\n",
    "                  'Sorghum/Millet/Moha', 'Cereal', 'Leguminous Fodder', 'Other Fodder', 'Winter Rapeseed',\n",
    "                  'Sunflower', 'Soy', 'Protein Crop', 'Potato', 'Fruits/Vegetables/Flowers', 'Ligneous', 'Orchards',\n",
    "                  'Grapevine', 'Non-agricultural Surface', 'Wood']\n",
    "labels_text_slo = ['Meadow', 'Maize', 'Wheat/Spelt', 'Barley', 'Fruit', 'Vineyards', 'Plants harvested green',\n",
    "                   'Cucurbits', 'Potatoes', 'Fresh Vegetables/Melons/Strawberries', 'Triticale',\n",
    "                   'Winter Rapeseed/Turnip Rapeseed', 'Oats', 'Rye', 'Leguminous Plants', 'Cereal', 'Nuts', 'Hop',\n",
    "                   'Rapeseed/Turnip Rapeseed', 'Millet']"
   ]
  },
  {
   "cell_type": "markdown",
   "metadata": {},
   "source": [
    "#### Open label files"
   ]
  },
  {
   "cell_type": "code",
   "execution_count": null,
   "metadata": {},
   "outputs": [],
   "source": [
    "with open('/home/maja/ssd/rc2020dataset/pixelset/META/labels.json') as json_file:\n",
    "    data_F = json.load(json_file)\n",
    "df_F = pd.DataFrame(data_F['label_44class'].items())\n",
    "occ_F = df_F[1].value_counts()\n",
    "occ_F = occ_F.to_dict()\n",
    "\n",
    "with open('/home/maja/ssd/rc2020dataset/Dataset_4_garnot/labels_20F.json') as json_file:\n",
    "    data_S1 = json.load(json_file)\n",
    "df_S1 = pd.DataFrame(data_S1['c_group_co'].items())\n",
    "occ_S1 = df_S1[1].value_counts()\n",
    "occ_S1 = occ_S1.to_dict()\n",
    "\n",
    "with open('/home/maja/ssd/rc2020dataset/Dataset_4_garnot/labels_20S.json') as json_file:\n",
    "    data_S2 = json.load(json_file)\n",
    "df_S2 = pd.DataFrame(data_S2['c_group_co'].items())\n",
    "occ_S2 = df_S2[1].value_counts()\n",
    "occ_S2 = occ_S2.to_dict()"
   ]
  },
  {
   "cell_type": "markdown",
   "metadata": {},
   "source": [
    "#### Get the stats of F"
   ]
  },
  {
   "cell_type": "code",
   "execution_count": null,
   "metadata": {},
   "outputs": [],
   "source": [
    "output_F = {}\n",
    "sum_F = 0\n",
    "\n",
    "for class_nr in classes_F:\n",
    "    sum_F += occ_F[class_nr]\n",
    "\n",
    "with open('F_top20F.txt', 'w') as f:\n",
    "    f.write('Crop Name, Absolute Occurrence, Relative Occurrence\\n')\n",
    "    for class_nr, name in zip(classes_F, labels_text_fr):\n",
    "        strng = name + ', ' + str(occ_F[class_nr]) + ', ' + str(occ_F[class_nr]/sum_F) + '\\n'\n",
    "        f.write(strng)\n",
    "        output_F[name] = [occ_F[class_nr], occ_F[class_nr]/sum_F]            "
   ]
  },
  {
   "cell_type": "markdown",
   "metadata": {},
   "source": [
    "#### Get the stats of F and S (with the classes from F)"
   ]
  },
  {
   "cell_type": "code",
   "execution_count": null,
   "metadata": {},
   "outputs": [],
   "source": [
    "output_S1 = {}\n",
    "output_together = {}\n",
    "sum_S1 = 0\n",
    "\n",
    "for class_nr in classes_F:\n",
    "    if class_nr in occ_S1:\n",
    "        sum_S1 += occ_S1[class_nr]\n",
    "        \n",
    "with open('S_top20F.txt', 'w') as f1:\n",
    "    with open('FS_top20F.txt', 'w') as f2:\n",
    "        f1.write('Crop Name, Absolute Occurrence, Relative Occurrence\\n')\n",
    "        f2.write('Crop Name, France Absolute Occurrence, France Relative Occurrence, Slovenia Absolute Occurrence, Slovenia Relative Occurrence\\n')\n",
    "        for class_nr, name in zip(classes_F, labels_text_fr):\n",
    "            if class_nr in occ_S1:\n",
    "                output_S1[name] = [occ_S1[class_nr], occ_S1[class_nr]/sum_S1]\n",
    "                output_together[name] = [occ_F[class_nr], occ_F[class_nr]/sum_F, occ_S1[class_nr], occ_S1[class_nr]/sum_S1]\n",
    "                strng1 = name + ', ' + str(occ_S1[class_nr]) + ', ' + str(occ_S1[class_nr]/sum_S1) + '\\n'\n",
    "                f1.write(strng1)\n",
    "                strng2 = name + ', ' + str(occ_F[class_nr]) + ', ' + str(occ_F[class_nr]/sum_F) + ', ' + str(occ_S1[class_nr]) + ', ' + str(occ_S1[class_nr]/sum_S1) + '\\n'\n",
    "                f2.write(strng2)\n",
    "            else:\n",
    "                output_S1[name] = [0, 0]\n",
    "                output_together[name] = [occ_F[class_nr], occ_F[class_nr]/sum_F, 0, 0]\n",
    "                strng1 = name + ', ' + str(0) + ', ' + str(0) + '\\n'\n",
    "                f1.write(strng1)\n",
    "                strng2 = name + ', ' + str(occ_F[class_nr]) + ', ' + str(occ_F[class_nr]/sum_F) + ', ' + str(0) + ', ' + str(0) + '\\n'\n",
    "                f2.write(strng2)"
   ]
  },
  {
   "cell_type": "markdown",
   "metadata": {},
   "source": [
    "#### Get the stats of S"
   ]
  },
  {
   "cell_type": "code",
   "execution_count": null,
   "metadata": {},
   "outputs": [],
   "source": [
    "output_S2 = {}\n",
    "sum_S2 = 0\n",
    "\n",
    "for class_nr in classes_S:\n",
    "    sum_S2 += occ_S2[class_nr]\n",
    "\n",
    "with open('S_top20S.txt', 'w') as f:\n",
    "    f.write('Crop Name, Absolute Occurrence, Relative Occurrence\\n')\n",
    "    for class_nr, name in zip(classes_S, labels_text_slo):\n",
    "        strng = name + ', ' + str(occ_S2[class_nr]) + ', ' + str(occ_S2[class_nr]/sum_S2) + '\\n'\n",
    "        f.write(strng)\n",
    "        output_S2[name] = [occ_S2[class_nr], occ_S2[class_nr]/sum_S2]"
   ]
  }
 ],
 "metadata": {
  "kernelspec": {
   "display_name": "Python 3",
   "language": "python",
   "name": "python3"
  },
  "language_info": {
   "codemirror_mode": {
    "name": "ipython",
    "version": 3
   },
   "file_extension": ".py",
   "mimetype": "text/x-python",
   "name": "python",
   "nbconvert_exporter": "python",
   "pygments_lexer": "ipython3",
   "version": "3.8.6"
  }
 },
 "nbformat": 4,
 "nbformat_minor": 4
}
